{
 "cells": [
  {
   "attachments": {},
   "cell_type": "markdown",
   "metadata": {},
   "source": [
    "# 1. Read data from datalake\n",
    "![title](1.PNG)"
   ]
  },
  {
   "attachments": {},
   "cell_type": "markdown",
   "metadata": {},
   "source": []
  },
  {
   "attachments": {},
   "cell_type": "markdown",
   "metadata": {},
   "source": [
    "# 2. Create external table - CSV file\n",
    "2.1 create a database master key.\\\n",
    "&nbsp;&nbsp;&nbsp;&nbsp; This key will be used to protect the Shared Access Signature which is specified in the next step\n"
   ]
  },
  {
   "cell_type": "code",
   "execution_count": null,
   "metadata": {},
   "outputs": [],
   "source": [
    "CREATE MASTER KEY ENCRYPTION BY PASSWORD = 'P@ssw0rd@123';"
   ]
  },
  {
   "attachments": {},
   "cell_type": "markdown",
   "metadata": {},
   "source": [
    "2.2 using the Shared Access Signature to authorize the use of the Azure Data Lake Storage account"
   ]
  },
  {
   "cell_type": "code",
   "execution_count": null,
   "metadata": {},
   "outputs": [],
   "source": [
    "CREATE DATABASE SCOPED CREDENTIAL SasToken\n",
    "WITH IDENTITY='SHARED ACCESS SIGNATURE'\n",
    ", SECRET = 'sas_key';"
   ]
  },
  {
   "attachments": {},
   "cell_type": "markdown",
   "metadata": {},
   "source": [
    "2.3 Create external file format"
   ]
  },
  {
   "cell_type": "code",
   "execution_count": null,
   "metadata": {},
   "outputs": [],
   "source": [
    "CREATE EXTERNAL FILE FORMAT TextFileFormat WITH (  \n",
    "      FORMAT_TYPE = DELIMITEDTEXT,  \n",
    "    FORMAT_OPTIONS (  \n",
    "        FIELD_TERMINATOR = ',',\n",
    "        FIRST_ROW = 2))"
   ]
  },
  {
   "attachments": {},
   "cell_type": "markdown",
   "metadata": {},
   "source": [
    "2.4 Create External Table"
   ]
  },
  {
   "cell_type": "code",
   "execution_count": null,
   "metadata": {},
   "outputs": [],
   "source": [
    "CREATE EXTERNAL TABLE [logdata]\n",
    "(\n",
    "    [Correlation id] [varchar](200) NULL,\n",
    "\t[Operation name] [varchar](200) NULL,\n",
    "\t[Status] [varchar](100) NULL,\n",
    "\t[Event category] [varchar](100) NULL,\n",
    "\t[Level] [varchar](100) NULL,\n",
    "\t[Time] [datetime] NULL,\n",
    "\t[Subscription] [varchar](200) NULL,\n",
    "\t[Event initiated by] [varchar](1000) NULL,\n",
    "\t[Resource type] [varchar](1000) NULL,\n",
    "\t[Resource group] [varchar](1000) NULL,\n",
    "    [Resource] [varchar](2000) NULL)\n",
    "WITH (\n",
    " LOCATION = '/Log.csv',\n",
    "    DATA_SOURCE = log_data,  \n",
    "    FILE_FORMAT = TextFileFormat\n",
    ")"
   ]
  }
 ],
 "metadata": {
  "kernelspec": {
   "display_name": "Python 3",
   "language": "python",
   "name": "python3"
  },
  "language_info": {
   "codemirror_mode": {
    "name": "ipython",
    "version": 3
   },
   "file_extension": ".py",
   "mimetype": "text/x-python",
   "name": "python",
   "nbconvert_exporter": "python",
   "pygments_lexer": "ipython3",
   "version": "3.11.4"
  },
  "orig_nbformat": 4
 },
 "nbformat": 4,
 "nbformat_minor": 2
}
